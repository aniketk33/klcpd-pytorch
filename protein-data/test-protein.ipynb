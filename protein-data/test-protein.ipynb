{
 "cells": [
  {
   "cell_type": "code",
   "execution_count": 20,
   "id": "d7322f23-f7fb-41c5-bec4-3a40d1bbe78e",
   "metadata": {},
   "outputs": [],
   "source": [
    "import torch\n",
    "import pandas as pd\n",
    "import numpy as np\n",
    "import os"
   ]
  },
  {
   "cell_type": "code",
   "execution_count": 3,
   "id": "bc11f6b7-00f4-472b-81bd-f8430668b93d",
   "metadata": {},
   "outputs": [
    {
     "data": {
      "text/plain": [
       "(True, '2.0.1')"
      ]
     },
     "execution_count": 3,
     "metadata": {},
     "output_type": "execute_result"
    }
   ],
   "source": [
    "torch.cuda.is_available(), torch.__version__"
   ]
  },
  {
   "cell_type": "code",
   "execution_count": 17,
   "id": "c141a12b-2554-4705-a9f5-ee80800949e5",
   "metadata": {},
   "outputs": [],
   "source": [
    "file_dir = './__dataset'\n",
    "\n",
    "def check_pkl_file(file_name):\n",
    "    file_arr = file_name.split('.')\n",
    "    pkl_file_name = '_'.join(file_arr) + '.pkl'\n",
    "    files = os.listdir(file_dir)    \n",
    "    return pkl_file_name in files, f'{file_dir}/{pkl_file_name}'"
   ]
  },
  {
   "cell_type": "code",
   "execution_count": 5,
   "id": "509bfdaf-cd65-49e4-9d00-284eed5b1fcf",
   "metadata": {},
   "outputs": [],
   "source": [
    "df_1h9t = pd.read_fwf('./__dataset/1h9t_traj.xyz')"
   ]
  },
  {
   "cell_type": "code",
   "execution_count": 6,
   "id": "f0ff532c-1374-4e4f-bcf9-6323cad75550",
   "metadata": {},
   "outputs": [
    {
     "data": {
      "text/html": [
       "<div>\n",
       "<style scoped>\n",
       "    .dataframe tbody tr th:only-of-type {\n",
       "        vertical-align: middle;\n",
       "    }\n",
       "\n",
       "    .dataframe tbody tr th {\n",
       "        vertical-align: top;\n",
       "    }\n",
       "\n",
       "    .dataframe thead th {\n",
       "        text-align: right;\n",
       "    }\n",
       "</style>\n",
       "<table border=\"1\" class=\"dataframe\">\n",
       "  <thead>\n",
       "    <tr style=\"text-align: right;\">\n",
       "      <th></th>\n",
       "      <th>8993</th>\n",
       "      <th>Unnamed: 1</th>\n",
       "      <th>Unnamed: 2</th>\n",
       "      <th>Unnamed: 3</th>\n",
       "    </tr>\n",
       "  </thead>\n",
       "  <tbody>\n",
       "    <tr>\n",
       "      <th>0</th>\n",
       "      <td>generated</td>\n",
       "      <td>by VMD</td>\n",
       "      <td>NaN</td>\n",
       "      <td>NaN</td>\n",
       "    </tr>\n",
       "    <tr>\n",
       "      <th>1</th>\n",
       "      <td>N</td>\n",
       "      <td>-57.584381</td>\n",
       "      <td>34.978298</td>\n",
       "      <td>159.481232</td>\n",
       "    </tr>\n",
       "    <tr>\n",
       "      <th>2</th>\n",
       "      <td>H1</td>\n",
       "      <td>-57.861336</td>\n",
       "      <td>35.784279</td>\n",
       "      <td>160.104431</td>\n",
       "    </tr>\n",
       "    <tr>\n",
       "      <th>3</th>\n",
       "      <td>H2</td>\n",
       "      <td>-57.304367</td>\n",
       "      <td>35.498142</td>\n",
       "      <td>158.619400</td>\n",
       "    </tr>\n",
       "    <tr>\n",
       "      <th>4</th>\n",
       "      <td>H3</td>\n",
       "      <td>-58.363346</td>\n",
       "      <td>34.340218</td>\n",
       "      <td>159.397354</td>\n",
       "    </tr>\n",
       "    <tr>\n",
       "      <th>...</th>\n",
       "      <td>...</td>\n",
       "      <td>...</td>\n",
       "      <td>...</td>\n",
       "      <td>...</td>\n",
       "    </tr>\n",
       "    <tr>\n",
       "      <th>59097144</th>\n",
       "      <td>H1</td>\n",
       "      <td>-9.935467</td>\n",
       "      <td>-3.359665</td>\n",
       "      <td>170.869949</td>\n",
       "    </tr>\n",
       "    <tr>\n",
       "      <th>59097145</th>\n",
       "      <td>H2</td>\n",
       "      <td>-8.470885</td>\n",
       "      <td>-3.028969</td>\n",
       "      <td>170.649261</td>\n",
       "    </tr>\n",
       "    <tr>\n",
       "      <th>59097146</th>\n",
       "      <td>O</td>\n",
       "      <td>7.218987</td>\n",
       "      <td>42.856380</td>\n",
       "      <td>97.068260</td>\n",
       "    </tr>\n",
       "    <tr>\n",
       "      <th>59097147</th>\n",
       "      <td>H1</td>\n",
       "      <td>6.664699</td>\n",
       "      <td>42.867878</td>\n",
       "      <td>96.188118</td>\n",
       "    </tr>\n",
       "    <tr>\n",
       "      <th>59097148</th>\n",
       "      <td>H2</td>\n",
       "      <td>8.109908</td>\n",
       "      <td>42.881283</td>\n",
       "      <td>96.648109</td>\n",
       "    </tr>\n",
       "  </tbody>\n",
       "</table>\n",
       "<p>59097149 rows × 4 columns</p>\n",
       "</div>"
      ],
      "text/plain": [
       "               8993  Unnamed: 1  Unnamed: 2  Unnamed: 3\n",
       "0         generated      by VMD         NaN         NaN\n",
       "1                 N  -57.584381   34.978298  159.481232\n",
       "2                H1  -57.861336   35.784279  160.104431\n",
       "3                H2  -57.304367   35.498142  158.619400\n",
       "4                H3  -58.363346   34.340218  159.397354\n",
       "...             ...         ...         ...         ...\n",
       "59097144         H1   -9.935467   -3.359665  170.869949\n",
       "59097145         H2   -8.470885   -3.028969  170.649261\n",
       "59097146          O    7.218987   42.856380   97.068260\n",
       "59097147         H1    6.664699   42.867878   96.188118\n",
       "59097148         H2    8.109908   42.881283   96.648109\n",
       "\n",
       "[59097149 rows x 4 columns]"
      ]
     },
     "execution_count": 6,
     "metadata": {},
     "output_type": "execute_result"
    }
   ],
   "source": [
    "df_1h9t"
   ]
  },
  {
   "cell_type": "code",
   "execution_count": 8,
   "id": "191434be-997e-4336-9c88-da145a4bc76d",
   "metadata": {},
   "outputs": [
    {
     "data": {
      "text/html": [
       "<div>\n",
       "<style scoped>\n",
       "    .dataframe tbody tr th:only-of-type {\n",
       "        vertical-align: middle;\n",
       "    }\n",
       "\n",
       "    .dataframe tbody tr th {\n",
       "        vertical-align: top;\n",
       "    }\n",
       "\n",
       "    .dataframe thead th {\n",
       "        text-align: right;\n",
       "    }\n",
       "</style>\n",
       "<table border=\"1\" class=\"dataframe\">\n",
       "  <thead>\n",
       "    <tr style=\"text-align: right;\">\n",
       "      <th></th>\n",
       "      <th>Unnamed: 1</th>\n",
       "      <th>Unnamed: 2</th>\n",
       "      <th>Unnamed: 3</th>\n",
       "    </tr>\n",
       "  </thead>\n",
       "  <tbody>\n",
       "    <tr>\n",
       "      <th>0</th>\n",
       "      <td>by VMD</td>\n",
       "      <td>NaN</td>\n",
       "      <td>NaN</td>\n",
       "    </tr>\n",
       "    <tr>\n",
       "      <th>1</th>\n",
       "      <td>-57.584381</td>\n",
       "      <td>34.978298</td>\n",
       "      <td>159.481232</td>\n",
       "    </tr>\n",
       "    <tr>\n",
       "      <th>2</th>\n",
       "      <td>-57.861336</td>\n",
       "      <td>35.784279</td>\n",
       "      <td>160.104431</td>\n",
       "    </tr>\n",
       "    <tr>\n",
       "      <th>3</th>\n",
       "      <td>-57.304367</td>\n",
       "      <td>35.498142</td>\n",
       "      <td>158.619400</td>\n",
       "    </tr>\n",
       "    <tr>\n",
       "      <th>4</th>\n",
       "      <td>-58.363346</td>\n",
       "      <td>34.340218</td>\n",
       "      <td>159.397354</td>\n",
       "    </tr>\n",
       "    <tr>\n",
       "      <th>...</th>\n",
       "      <td>...</td>\n",
       "      <td>...</td>\n",
       "      <td>...</td>\n",
       "    </tr>\n",
       "    <tr>\n",
       "      <th>59097144</th>\n",
       "      <td>-9.935467</td>\n",
       "      <td>-3.359665</td>\n",
       "      <td>170.869949</td>\n",
       "    </tr>\n",
       "    <tr>\n",
       "      <th>59097145</th>\n",
       "      <td>-8.470885</td>\n",
       "      <td>-3.028969</td>\n",
       "      <td>170.649261</td>\n",
       "    </tr>\n",
       "    <tr>\n",
       "      <th>59097146</th>\n",
       "      <td>7.218987</td>\n",
       "      <td>42.856380</td>\n",
       "      <td>97.068260</td>\n",
       "    </tr>\n",
       "    <tr>\n",
       "      <th>59097147</th>\n",
       "      <td>6.664699</td>\n",
       "      <td>42.867878</td>\n",
       "      <td>96.188118</td>\n",
       "    </tr>\n",
       "    <tr>\n",
       "      <th>59097148</th>\n",
       "      <td>8.109908</td>\n",
       "      <td>42.881283</td>\n",
       "      <td>96.648109</td>\n",
       "    </tr>\n",
       "  </tbody>\n",
       "</table>\n",
       "<p>59097149 rows × 3 columns</p>\n",
       "</div>"
      ],
      "text/plain": [
       "          Unnamed: 1  Unnamed: 2  Unnamed: 3\n",
       "0             by VMD         NaN         NaN\n",
       "1         -57.584381   34.978298  159.481232\n",
       "2         -57.861336   35.784279  160.104431\n",
       "3         -57.304367   35.498142  158.619400\n",
       "4         -58.363346   34.340218  159.397354\n",
       "...              ...         ...         ...\n",
       "59097144   -9.935467   -3.359665  170.869949\n",
       "59097145   -8.470885   -3.028969  170.649261\n",
       "59097146    7.218987   42.856380   97.068260\n",
       "59097147    6.664699   42.867878   96.188118\n",
       "59097148    8.109908   42.881283   96.648109\n",
       "\n",
       "[59097149 rows x 3 columns]"
      ]
     },
     "execution_count": 8,
     "metadata": {},
     "output_type": "execute_result"
    }
   ],
   "source": [
    "raw_df = df_1h9t[[df_1h9t.columns[1], df_1h9t.columns[2], df_1h9t.columns[3]]]\n",
    "raw_df"
   ]
  },
  {
   "cell_type": "code",
   "execution_count": 9,
   "id": "fb39627f-4073-4087-8b8b-ce872890305c",
   "metadata": {},
   "outputs": [],
   "source": [
    "# remove NaN\n",
    "raw_df = raw_df.dropna()"
   ]
  },
  {
   "cell_type": "code",
   "execution_count": 10,
   "id": "d554324a-bbc2-4471-bf56-01f6008cfbfa",
   "metadata": {},
   "outputs": [
    {
     "data": {
      "text/html": [
       "<div>\n",
       "<style scoped>\n",
       "    .dataframe tbody tr th:only-of-type {\n",
       "        vertical-align: middle;\n",
       "    }\n",
       "\n",
       "    .dataframe tbody tr th {\n",
       "        vertical-align: top;\n",
       "    }\n",
       "\n",
       "    .dataframe thead th {\n",
       "        text-align: right;\n",
       "    }\n",
       "</style>\n",
       "<table border=\"1\" class=\"dataframe\">\n",
       "  <thead>\n",
       "    <tr style=\"text-align: right;\">\n",
       "      <th></th>\n",
       "      <th>Unnamed: 1</th>\n",
       "      <th>Unnamed: 2</th>\n",
       "      <th>Unnamed: 3</th>\n",
       "    </tr>\n",
       "  </thead>\n",
       "  <tbody>\n",
       "    <tr>\n",
       "      <th>1</th>\n",
       "      <td>-57.584381</td>\n",
       "      <td>34.978298</td>\n",
       "      <td>159.481232</td>\n",
       "    </tr>\n",
       "    <tr>\n",
       "      <th>2</th>\n",
       "      <td>-57.861336</td>\n",
       "      <td>35.784279</td>\n",
       "      <td>160.104431</td>\n",
       "    </tr>\n",
       "    <tr>\n",
       "      <th>3</th>\n",
       "      <td>-57.304367</td>\n",
       "      <td>35.498142</td>\n",
       "      <td>158.619400</td>\n",
       "    </tr>\n",
       "    <tr>\n",
       "      <th>4</th>\n",
       "      <td>-58.363346</td>\n",
       "      <td>34.340218</td>\n",
       "      <td>159.397354</td>\n",
       "    </tr>\n",
       "    <tr>\n",
       "      <th>5</th>\n",
       "      <td>-56.345375</td>\n",
       "      <td>34.299068</td>\n",
       "      <td>159.865143</td>\n",
       "    </tr>\n",
       "    <tr>\n",
       "      <th>...</th>\n",
       "      <td>...</td>\n",
       "      <td>...</td>\n",
       "      <td>...</td>\n",
       "    </tr>\n",
       "    <tr>\n",
       "      <th>59097144</th>\n",
       "      <td>-9.935467</td>\n",
       "      <td>-3.359665</td>\n",
       "      <td>170.869949</td>\n",
       "    </tr>\n",
       "    <tr>\n",
       "      <th>59097145</th>\n",
       "      <td>-8.470885</td>\n",
       "      <td>-3.028969</td>\n",
       "      <td>170.649261</td>\n",
       "    </tr>\n",
       "    <tr>\n",
       "      <th>59097146</th>\n",
       "      <td>7.218987</td>\n",
       "      <td>42.856380</td>\n",
       "      <td>97.068260</td>\n",
       "    </tr>\n",
       "    <tr>\n",
       "      <th>59097147</th>\n",
       "      <td>6.664699</td>\n",
       "      <td>42.867878</td>\n",
       "      <td>96.188118</td>\n",
       "    </tr>\n",
       "    <tr>\n",
       "      <th>59097148</th>\n",
       "      <td>8.109908</td>\n",
       "      <td>42.881283</td>\n",
       "      <td>96.648109</td>\n",
       "    </tr>\n",
       "  </tbody>\n",
       "</table>\n",
       "<p>59084010 rows × 3 columns</p>\n",
       "</div>"
      ],
      "text/plain": [
       "          Unnamed: 1  Unnamed: 2  Unnamed: 3\n",
       "1         -57.584381   34.978298  159.481232\n",
       "2         -57.861336   35.784279  160.104431\n",
       "3         -57.304367   35.498142  158.619400\n",
       "4         -58.363346   34.340218  159.397354\n",
       "5         -56.345375   34.299068  159.865143\n",
       "...              ...         ...         ...\n",
       "59097144   -9.935467   -3.359665  170.869949\n",
       "59097145   -8.470885   -3.028969  170.649261\n",
       "59097146    7.218987   42.856380   97.068260\n",
       "59097147    6.664699   42.867878   96.188118\n",
       "59097148    8.109908   42.881283   96.648109\n",
       "\n",
       "[59084010 rows x 3 columns]"
      ]
     },
     "execution_count": 10,
     "metadata": {},
     "output_type": "execute_result"
    }
   ],
   "source": [
    "raw_df"
   ]
  },
  {
   "cell_type": "code",
   "execution_count": 13,
   "id": "44b2de49-f11b-485c-9581-82ee4ed263ed",
   "metadata": {},
   "outputs": [
    {
     "data": {
      "text/plain": [
       "6570.0"
      ]
     },
     "execution_count": 13,
     "metadata": {},
     "output_type": "execute_result"
    }
   ],
   "source": [
    "59084010/8993"
   ]
  },
  {
   "cell_type": "code",
   "execution_count": 14,
   "id": "cc423794-4ac2-44f0-bf32-f0a587139423",
   "metadata": {},
   "outputs": [
    {
     "data": {
      "text/plain": [
       "(59084010, 3)"
      ]
     },
     "execution_count": 14,
     "metadata": {},
     "output_type": "execute_result"
    }
   ],
   "source": [
    "coordinates = raw_df.to_numpy(dtype=np.float32)\n",
    "coordinates.shape"
   ]
  },
  {
   "cell_type": "code",
   "execution_count": 15,
   "id": "c79dcbee-345b-4641-bf79-144ac0430018",
   "metadata": {},
   "outputs": [
    {
     "data": {
      "text/plain": [
       "(6570, 8993, 3)"
      ]
     },
     "execution_count": 15,
     "metadata": {},
     "output_type": "execute_result"
    }
   ],
   "source": [
    "coordinates = coordinates.reshape([6570, 8993, 3])\n",
    "coordinates.shape"
   ]
  },
  {
   "cell_type": "code",
   "execution_count": 17,
   "id": "11077d57-3acb-470e-af41-c379db9b49a7",
   "metadata": {
    "tags": []
   },
   "outputs": [],
   "source": [
    "torch.save(coordinates, './__dataset/1h9t_traj_xyz.pkl')"
   ]
  },
  {
   "cell_type": "code",
   "execution_count": 6,
   "id": "c04d57b4-3688-4db8-9c06-e51e6ab08285",
   "metadata": {},
   "outputs": [],
   "source": [
    "coordinates = torch.load('./__dataset/1h9t_traj_xyz.pkl')"
   ]
  },
  {
   "cell_type": "code",
   "execution_count": 7,
   "id": "4635e724-17ac-4719-9ea0-fecda7dd4317",
   "metadata": {},
   "outputs": [
    {
     "data": {
      "text/plain": [
       "(6570, 8993, 3)"
      ]
     },
     "execution_count": 7,
     "metadata": {},
     "output_type": "execute_result"
    }
   ],
   "source": [
    "coordinates.shape"
   ]
  },
  {
   "cell_type": "code",
   "execution_count": 22,
   "id": "6324bf66-be3e-4f7a-aede-626bcca73594",
   "metadata": {},
   "outputs": [],
   "source": [
    "file_name = '1fme_md.xyz'"
   ]
  },
  {
   "cell_type": "code",
   "execution_count": 8,
   "id": "6bc83532-2e87-4b45-957f-c6fb7bf90bd0",
   "metadata": {},
   "outputs": [],
   "source": [
    "df_1fme = pd.read_fwf(file_name)"
   ]
  },
  {
   "cell_type": "code",
   "execution_count": 9,
   "id": "f99344b1-f3c0-47c3-840c-97fd530786cd",
   "metadata": {},
   "outputs": [
    {
     "data": {
      "text/html": [
       "<div>\n",
       "<style scoped>\n",
       "    .dataframe tbody tr th:only-of-type {\n",
       "        vertical-align: middle;\n",
       "    }\n",
       "\n",
       "    .dataframe tbody tr th {\n",
       "        vertical-align: top;\n",
       "    }\n",
       "\n",
       "    .dataframe thead th {\n",
       "        text-align: right;\n",
       "    }\n",
       "</style>\n",
       "<table border=\"1\" class=\"dataframe\">\n",
       "  <thead>\n",
       "    <tr style=\"text-align: right;\">\n",
       "      <th></th>\n",
       "      <th>Unnamed: 0</th>\n",
       "      <th>504</th>\n",
       "      <th>Unnamed: 2</th>\n",
       "      <th>Unnamed: 3</th>\n",
       "    </tr>\n",
       "  </thead>\n",
       "  <tbody>\n",
       "    <tr>\n",
       "      <th>0</th>\n",
       "      <td>N</td>\n",
       "      <td>-44.57</td>\n",
       "      <td>-8.73</td>\n",
       "      <td>-20.92</td>\n",
       "    </tr>\n",
       "    <tr>\n",
       "      <th>1</th>\n",
       "      <td>H</td>\n",
       "      <td>-45.31</td>\n",
       "      <td>-8.30</td>\n",
       "      <td>-21.46</td>\n",
       "    </tr>\n",
       "    <tr>\n",
       "      <th>2</th>\n",
       "      <td>H</td>\n",
       "      <td>-44.91</td>\n",
       "      <td>-9.54</td>\n",
       "      <td>-20.44</td>\n",
       "    </tr>\n",
       "    <tr>\n",
       "      <th>3</th>\n",
       "      <td>H</td>\n",
       "      <td>-43.87</td>\n",
       "      <td>-9.06</td>\n",
       "      <td>-21.57</td>\n",
       "    </tr>\n",
       "    <tr>\n",
       "      <th>4</th>\n",
       "      <td>C</td>\n",
       "      <td>-43.93</td>\n",
       "      <td>-7.79</td>\n",
       "      <td>-20.01</td>\n",
       "    </tr>\n",
       "    <tr>\n",
       "      <th>...</th>\n",
       "      <td>...</td>\n",
       "      <td>...</td>\n",
       "      <td>...</td>\n",
       "      <td>...</td>\n",
       "    </tr>\n",
       "    <tr>\n",
       "      <th>50499994</th>\n",
       "      <td>H</td>\n",
       "      <td>-8.00</td>\n",
       "      <td>0.69</td>\n",
       "      <td>0.51</td>\n",
       "    </tr>\n",
       "    <tr>\n",
       "      <th>50499995</th>\n",
       "      <td>H</td>\n",
       "      <td>0.77</td>\n",
       "      <td>1.99</td>\n",
       "      <td>-1.29</td>\n",
       "    </tr>\n",
       "    <tr>\n",
       "      <th>50499996</th>\n",
       "      <td>C</td>\n",
       "      <td>-5.18</td>\n",
       "      <td>0.86</td>\n",
       "      <td>-3.33</td>\n",
       "    </tr>\n",
       "    <tr>\n",
       "      <th>50499997</th>\n",
       "      <td>O</td>\n",
       "      <td>-5.66</td>\n",
       "      <td>1.61</td>\n",
       "      <td>-2.41</td>\n",
       "    </tr>\n",
       "    <tr>\n",
       "      <th>50499998</th>\n",
       "      <td>O</td>\n",
       "      <td>-4.51</td>\n",
       "      <td>0.17</td>\n",
       "      <td>-3.11</td>\n",
       "    </tr>\n",
       "  </tbody>\n",
       "</table>\n",
       "<p>50499999 rows × 4 columns</p>\n",
       "</div>"
      ],
      "text/plain": [
       "         Unnamed: 0    504  Unnamed: 2  Unnamed: 3\n",
       "0                 N -44.57       -8.73      -20.92\n",
       "1                 H -45.31       -8.30      -21.46\n",
       "2                 H -44.91       -9.54      -20.44\n",
       "3                 H -43.87       -9.06      -21.57\n",
       "4                 C -43.93       -7.79      -20.01\n",
       "...             ...    ...         ...         ...\n",
       "50499994          H  -8.00        0.69        0.51\n",
       "50499995          H   0.77        1.99       -1.29\n",
       "50499996          C  -5.18        0.86       -3.33\n",
       "50499997          O  -5.66        1.61       -2.41\n",
       "50499998          O  -4.51        0.17       -3.11\n",
       "\n",
       "[50499999 rows x 4 columns]"
      ]
     },
     "execution_count": 9,
     "metadata": {},
     "output_type": "execute_result"
    }
   ],
   "source": [
    "df_1fme"
   ]
  },
  {
   "cell_type": "code",
   "execution_count": 12,
   "id": "883e2228-0e72-458f-a6e2-4077d0ec7f71",
   "metadata": {},
   "outputs": [
    {
     "data": {
      "text/html": [
       "<div>\n",
       "<style scoped>\n",
       "    .dataframe tbody tr th:only-of-type {\n",
       "        vertical-align: middle;\n",
       "    }\n",
       "\n",
       "    .dataframe tbody tr th {\n",
       "        vertical-align: top;\n",
       "    }\n",
       "\n",
       "    .dataframe thead th {\n",
       "        text-align: right;\n",
       "    }\n",
       "</style>\n",
       "<table border=\"1\" class=\"dataframe\">\n",
       "  <thead>\n",
       "    <tr style=\"text-align: right;\">\n",
       "      <th></th>\n",
       "      <th>504</th>\n",
       "      <th>Unnamed: 2</th>\n",
       "      <th>Unnamed: 3</th>\n",
       "    </tr>\n",
       "  </thead>\n",
       "  <tbody>\n",
       "    <tr>\n",
       "      <th>0</th>\n",
       "      <td>-44.57</td>\n",
       "      <td>-8.73</td>\n",
       "      <td>-20.92</td>\n",
       "    </tr>\n",
       "    <tr>\n",
       "      <th>1</th>\n",
       "      <td>-45.31</td>\n",
       "      <td>-8.30</td>\n",
       "      <td>-21.46</td>\n",
       "    </tr>\n",
       "    <tr>\n",
       "      <th>2</th>\n",
       "      <td>-44.91</td>\n",
       "      <td>-9.54</td>\n",
       "      <td>-20.44</td>\n",
       "    </tr>\n",
       "    <tr>\n",
       "      <th>3</th>\n",
       "      <td>-43.87</td>\n",
       "      <td>-9.06</td>\n",
       "      <td>-21.57</td>\n",
       "    </tr>\n",
       "    <tr>\n",
       "      <th>4</th>\n",
       "      <td>-43.93</td>\n",
       "      <td>-7.79</td>\n",
       "      <td>-20.01</td>\n",
       "    </tr>\n",
       "    <tr>\n",
       "      <th>...</th>\n",
       "      <td>...</td>\n",
       "      <td>...</td>\n",
       "      <td>...</td>\n",
       "    </tr>\n",
       "    <tr>\n",
       "      <th>50499994</th>\n",
       "      <td>-8.00</td>\n",
       "      <td>0.69</td>\n",
       "      <td>0.51</td>\n",
       "    </tr>\n",
       "    <tr>\n",
       "      <th>50499995</th>\n",
       "      <td>0.77</td>\n",
       "      <td>1.99</td>\n",
       "      <td>-1.29</td>\n",
       "    </tr>\n",
       "    <tr>\n",
       "      <th>50499996</th>\n",
       "      <td>-5.18</td>\n",
       "      <td>0.86</td>\n",
       "      <td>-3.33</td>\n",
       "    </tr>\n",
       "    <tr>\n",
       "      <th>50499997</th>\n",
       "      <td>-5.66</td>\n",
       "      <td>1.61</td>\n",
       "      <td>-2.41</td>\n",
       "    </tr>\n",
       "    <tr>\n",
       "      <th>50499998</th>\n",
       "      <td>-4.51</td>\n",
       "      <td>0.17</td>\n",
       "      <td>-3.11</td>\n",
       "    </tr>\n",
       "  </tbody>\n",
       "</table>\n",
       "<p>50499999 rows × 3 columns</p>\n",
       "</div>"
      ],
      "text/plain": [
       "            504  Unnamed: 2  Unnamed: 3\n",
       "0        -44.57       -8.73      -20.92\n",
       "1        -45.31       -8.30      -21.46\n",
       "2        -44.91       -9.54      -20.44\n",
       "3        -43.87       -9.06      -21.57\n",
       "4        -43.93       -7.79      -20.01\n",
       "...         ...         ...         ...\n",
       "50499994  -8.00        0.69        0.51\n",
       "50499995   0.77        1.99       -1.29\n",
       "50499996  -5.18        0.86       -3.33\n",
       "50499997  -5.66        1.61       -2.41\n",
       "50499998  -4.51        0.17       -3.11\n",
       "\n",
       "[50499999 rows x 3 columns]"
      ]
     },
     "execution_count": 12,
     "metadata": {},
     "output_type": "execute_result"
    }
   ],
   "source": [
    "raw_df = df_1fme[[df_1fme.columns[1], df_1fme.columns[2], df_1fme.columns[3]]]\n",
    "raw_df"
   ]
  },
  {
   "cell_type": "code",
   "execution_count": 13,
   "id": "f3b40048-dc4c-4d99-96fa-1e6b512e13ee",
   "metadata": {},
   "outputs": [],
   "source": [
    "# remove NaN\n",
    "raw_df = raw_df.dropna()"
   ]
  },
  {
   "cell_type": "code",
   "execution_count": 14,
   "id": "881e2747-8580-4364-893d-06e1013e23f6",
   "metadata": {},
   "outputs": [
    {
     "data": {
      "text/html": [
       "<div>\n",
       "<style scoped>\n",
       "    .dataframe tbody tr th:only-of-type {\n",
       "        vertical-align: middle;\n",
       "    }\n",
       "\n",
       "    .dataframe tbody tr th {\n",
       "        vertical-align: top;\n",
       "    }\n",
       "\n",
       "    .dataframe thead th {\n",
       "        text-align: right;\n",
       "    }\n",
       "</style>\n",
       "<table border=\"1\" class=\"dataframe\">\n",
       "  <thead>\n",
       "    <tr style=\"text-align: right;\">\n",
       "      <th></th>\n",
       "      <th>504</th>\n",
       "      <th>Unnamed: 2</th>\n",
       "      <th>Unnamed: 3</th>\n",
       "    </tr>\n",
       "  </thead>\n",
       "  <tbody>\n",
       "    <tr>\n",
       "      <th>0</th>\n",
       "      <td>-44.57</td>\n",
       "      <td>-8.73</td>\n",
       "      <td>-20.92</td>\n",
       "    </tr>\n",
       "    <tr>\n",
       "      <th>1</th>\n",
       "      <td>-45.31</td>\n",
       "      <td>-8.30</td>\n",
       "      <td>-21.46</td>\n",
       "    </tr>\n",
       "    <tr>\n",
       "      <th>2</th>\n",
       "      <td>-44.91</td>\n",
       "      <td>-9.54</td>\n",
       "      <td>-20.44</td>\n",
       "    </tr>\n",
       "    <tr>\n",
       "      <th>3</th>\n",
       "      <td>-43.87</td>\n",
       "      <td>-9.06</td>\n",
       "      <td>-21.57</td>\n",
       "    </tr>\n",
       "    <tr>\n",
       "      <th>4</th>\n",
       "      <td>-43.93</td>\n",
       "      <td>-7.79</td>\n",
       "      <td>-20.01</td>\n",
       "    </tr>\n",
       "    <tr>\n",
       "      <th>...</th>\n",
       "      <td>...</td>\n",
       "      <td>...</td>\n",
       "      <td>...</td>\n",
       "    </tr>\n",
       "    <tr>\n",
       "      <th>50499994</th>\n",
       "      <td>-8.00</td>\n",
       "      <td>0.69</td>\n",
       "      <td>0.51</td>\n",
       "    </tr>\n",
       "    <tr>\n",
       "      <th>50499995</th>\n",
       "      <td>0.77</td>\n",
       "      <td>1.99</td>\n",
       "      <td>-1.29</td>\n",
       "    </tr>\n",
       "    <tr>\n",
       "      <th>50499996</th>\n",
       "      <td>-5.18</td>\n",
       "      <td>0.86</td>\n",
       "      <td>-3.33</td>\n",
       "    </tr>\n",
       "    <tr>\n",
       "      <th>50499997</th>\n",
       "      <td>-5.66</td>\n",
       "      <td>1.61</td>\n",
       "      <td>-2.41</td>\n",
       "    </tr>\n",
       "    <tr>\n",
       "      <th>50499998</th>\n",
       "      <td>-4.51</td>\n",
       "      <td>0.17</td>\n",
       "      <td>-3.11</td>\n",
       "    </tr>\n",
       "  </tbody>\n",
       "</table>\n",
       "<p>50400000 rows × 3 columns</p>\n",
       "</div>"
      ],
      "text/plain": [
       "            504  Unnamed: 2  Unnamed: 3\n",
       "0        -44.57       -8.73      -20.92\n",
       "1        -45.31       -8.30      -21.46\n",
       "2        -44.91       -9.54      -20.44\n",
       "3        -43.87       -9.06      -21.57\n",
       "4        -43.93       -7.79      -20.01\n",
       "...         ...         ...         ...\n",
       "50499994  -8.00        0.69        0.51\n",
       "50499995   0.77        1.99       -1.29\n",
       "50499996  -5.18        0.86       -3.33\n",
       "50499997  -5.66        1.61       -2.41\n",
       "50499998  -4.51        0.17       -3.11\n",
       "\n",
       "[50400000 rows x 3 columns]"
      ]
     },
     "execution_count": 14,
     "metadata": {},
     "output_type": "execute_result"
    }
   ],
   "source": [
    "raw_df"
   ]
  },
  {
   "cell_type": "code",
   "execution_count": 15,
   "id": "e3b68bd4-cbe2-47d7-99d6-7026fe031bc4",
   "metadata": {},
   "outputs": [
    {
     "data": {
      "text/plain": [
       "(50400000, 3)"
      ]
     },
     "execution_count": 15,
     "metadata": {},
     "output_type": "execute_result"
    }
   ],
   "source": [
    "coordinates = raw_df.to_numpy(dtype=np.float32)\n",
    "coordinates.shape"
   ]
  },
  {
   "cell_type": "code",
   "execution_count": 16,
   "id": "84e599be-e9a1-4817-981e-c23d1445e2de",
   "metadata": {},
   "outputs": [
    {
     "data": {
      "text/plain": [
       "(100000, 504, 3)"
      ]
     },
     "execution_count": 16,
     "metadata": {},
     "output_type": "execute_result"
    }
   ],
   "source": [
    "coordinates = coordinates.reshape([100000, 504, 3])\n",
    "coordinates.shape"
   ]
  },
  {
   "cell_type": "code",
   "execution_count": 23,
   "id": "29b71d4a-5390-46bb-81ce-9a352f2aa0fe",
   "metadata": {},
   "outputs": [
    {
     "data": {
      "text/plain": [
       "(False, './__dataset/1fme_md_xyz.pkl')"
      ]
     },
     "execution_count": 23,
     "metadata": {},
     "output_type": "execute_result"
    }
   ],
   "source": [
    "is_present, pickle_file_name = check_pkl_file(file_name)\n",
    "is_present, pickle_file_name"
   ]
  },
  {
   "cell_type": "code",
   "execution_count": 24,
   "id": "0a444564-167b-4486-983a-0a1d18a06263",
   "metadata": {},
   "outputs": [],
   "source": [
    "torch.save(coordinates, pickle_file_name)"
   ]
  },
  {
   "cell_type": "code",
   "execution_count": 26,
   "id": "18d033ea-3ddc-4cd7-a664-0fb6211285da",
   "metadata": {},
   "outputs": [
    {
     "data": {
      "text/plain": [
       "(100000, 504, 3)"
      ]
     },
     "execution_count": 26,
     "metadata": {},
     "output_type": "execute_result"
    }
   ],
   "source": [
    "torch.load(pickle_file_name).shape"
   ]
  },
  {
   "cell_type": "code",
   "execution_count": null,
   "id": "a17df03a-3693-44a6-bcd8-ed20cc9d819e",
   "metadata": {},
   "outputs": [],
   "source": []
  }
 ],
 "metadata": {
  "kernelspec": {
   "display_name": "cuda_env",
   "language": "python",
   "name": "cuda_env"
  },
  "language_info": {
   "codemirror_mode": {
    "name": "ipython",
    "version": 3
   },
   "file_extension": ".py",
   "mimetype": "text/x-python",
   "name": "python",
   "nbconvert_exporter": "python",
   "pygments_lexer": "ipython3",
   "version": "3.11.4"
  }
 },
 "nbformat": 4,
 "nbformat_minor": 5
}
