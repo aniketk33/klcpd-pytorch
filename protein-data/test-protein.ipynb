{
 "cells": [
  {
   "cell_type": "code",
   "execution_count": 1,
   "id": "0fa05cc8-8f3e-4897-9fda-bd4c1d5a60da",
   "metadata": {},
   "outputs": [],
   "source": [
    "import torch"
   ]
  },
  {
   "cell_type": "code",
   "execution_count": 2,
   "id": "235b2ef5-a8d7-4e35-acab-711ae4d000ba",
   "metadata": {},
   "outputs": [
    {
     "data": {
      "text/plain": [
       "True"
      ]
     },
     "execution_count": 2,
     "metadata": {},
     "output_type": "execute_result"
    }
   ],
   "source": [
    "torch.cuda.is_available()"
   ]
  },
  {
   "cell_type": "code",
   "execution_count": 3,
   "id": "cf6a1a48-ecf4-4651-b77f-75ce9e4eda48",
   "metadata": {},
   "outputs": [
    {
     "data": {
      "text/plain": [
       "'2.0.1'"
      ]
     },
     "execution_count": 3,
     "metadata": {},
     "output_type": "execute_result"
    }
   ],
   "source": [
    "torch.__version__"
   ]
  },
  {
   "cell_type": "code",
   "execution_count": 3,
   "id": "213c74fb-5d5a-489f-abed-09e8fcef3030",
   "metadata": {},
   "outputs": [],
   "source": [
    "import sys\n",
    "import os"
   ]
  },
  {
   "cell_type": "code",
   "execution_count": 11,
   "id": "b23d8bdc-e81d-4b87-b64a-3821802ccbd2",
   "metadata": {},
   "outputs": [
    {
     "data": {
      "text/plain": [
       "['/hpcgpfs01/scratch/akumar/protein-data',\n",
       " '/hpcgpfs01/scratch/akumar/miniconda3/envs/cuda_env/lib/python311.zip',\n",
       " '/hpcgpfs01/scratch/akumar/miniconda3/envs/cuda_env/lib/python3.11',\n",
       " '/hpcgpfs01/scratch/akumar/miniconda3/envs/cuda_env/lib/python3.11/lib-dynload',\n",
       " '',\n",
       " '/hpcgpfs01/scratch/akumar/miniconda3/envs/cuda_env/lib/python3.11/site-packages',\n",
       " '/hpcgpfs01/scratch/akumar']"
      ]
     },
     "execution_count": 11,
     "metadata": {},
     "output_type": "execute_result"
    }
   ],
   "source": [
    "sys.path"
   ]
  },
  {
   "cell_type": "code",
   "execution_count": 10,
   "id": "e919aba8-ded0-4faf-97f6-ad56ad008c99",
   "metadata": {},
   "outputs": [],
   "source": [
    "SCRIPT_DIR = os.path.dirname(os.path.abspath('__file__'))\n",
    "if os.path.dirname(SCRIPT_DIR) not in sys.path:\n",
    "    sys.path.append(os.path.dirname(SCRIPT_DIR))"
   ]
  },
  {
   "cell_type": "code",
   "execution_count": 6,
   "id": "22ce1b61-433a-4d12-8484-bd0260718011",
   "metadata": {},
   "outputs": [
    {
     "data": {
      "text/plain": [
       "'/hpcgpfs01/scratch/akumar'"
      ]
     },
     "execution_count": 6,
     "metadata": {},
     "output_type": "execute_result"
    }
   ],
   "source": []
  }
 ],
 "metadata": {
  "kernelspec": {
   "display_name": "cuda_env",
   "language": "python",
   "name": "cuda_env"
  },
  "language_info": {
   "codemirror_mode": {
    "name": "ipython",
    "version": 3
   },
   "file_extension": ".py",
   "mimetype": "text/x-python",
   "name": "python",
   "nbconvert_exporter": "python",
   "pygments_lexer": "ipython3",
   "version": "3.11.4"
  }
 },
 "nbformat": 4,
 "nbformat_minor": 5
}
